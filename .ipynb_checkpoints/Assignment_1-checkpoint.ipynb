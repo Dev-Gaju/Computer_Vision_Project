{
 "cells": [
  {
   "cell_type": "markdown",
   "id": "4fc9b51c",
   "metadata": {},
   "source": [
    "Trainable parameter from input` 50*50, 4 `\n",
    "with `conv 3*3,13 `\n",
    "\n",
    "(3*3*4+1)*13= 481 ( chanel * color+ bias) * filter size"
   ]
  },
  {
   "cell_type": "markdown",
   "id": "91b3187d",
   "metadata": {},
   "source": [
    "**2nd convolution parameter calculation**\n",
    "\n",
    "Parameters in the fourth `CONV2(filter shape =5*5, stride=1)` layer is: `((shape of width of filter * shape of height filter * number of filters in the previous layer+1) * number of filters) = (((5*5*8)+1)*16) = 3216`"
   ]
  },
  {
   "cell_type": "code",
   "execution_count": 23,
   "id": "35d2743e",
   "metadata": {},
   "outputs": [],
   "source": [
    "import tensorflow.keras\n",
    "from tensorflow.keras.models import Sequential\n",
    "from tensorflow.keras.layers import Dense, Activation, Dropout, \\\n",
    "    Flatten,Conv2D, MaxPooling2D,BatchNormalization,LayerNormalization,ZeroPadding2D\n",
    "import matplotlib.pyplot as plt"
   ]
  },
  {
   "cell_type": "code",
   "execution_count": 33,
   "id": "cd9e0018",
   "metadata": {},
   "outputs": [],
   "source": [
    "model = Sequential()"
   ]
  },
  {
   "cell_type": "code",
   "execution_count": 34,
   "id": "d9037cb9",
   "metadata": {},
   "outputs": [],
   "source": [
    "# 1st Convolutional Layer\n",
    "model.add(Conv2D(filters=10, input_shape=(50,50,4), kernel_size=(1,1), strides=(2,2), padding='same'))\n",
    "model.add(Activation('relu'))"
   ]
  },
  {
   "cell_type": "code",
   "execution_count": 35,
   "id": "f5b2ad42",
   "metadata": {},
   "outputs": [],
   "source": [
    "# 2nd Convolutional Layer\n",
    "ZeroPadding2D(padding=(2,2))\n",
    "model.add(Conv2D(filters=30, kernel_size=(5,5), strides=(3,3)))\n",
    "model.add(Activation('relu'))\n",
    "# Pooling\n",
    "model.add(MaxPooling2D(pool_size=(2,2), strides=(2,2)))"
   ]
  },
  {
   "cell_type": "code",
   "execution_count": 36,
   "id": "afd19f79",
   "metadata": {},
   "outputs": [
    {
     "name": "stdout",
     "output_type": "stream",
     "text": [
      "Model: \"sequential_7\"\n",
      "_________________________________________________________________\n",
      "Layer (type)                 Output Shape              Param #   \n",
      "=================================================================\n",
      "conv2d_12 (Conv2D)           (None, 25, 25, 10)        50        \n",
      "_________________________________________________________________\n",
      "activation_18 (Activation)   (None, 25, 25, 10)        0         \n",
      "_________________________________________________________________\n",
      "conv2d_13 (Conv2D)           (None, 7, 7, 30)          7530      \n",
      "_________________________________________________________________\n",
      "activation_19 (Activation)   (None, 7, 7, 30)          0         \n",
      "_________________________________________________________________\n",
      "max_pooling2d_6 (MaxPooling2 (None, 3, 3, 30)          0         \n",
      "_________________________________________________________________\n",
      "flatten_6 (Flatten)          (None, 270)               0         \n",
      "_________________________________________________________________\n",
      "dense_6 (Dense)              (None, 77)                20867     \n",
      "_________________________________________________________________\n",
      "activation_20 (Activation)   (None, 77)                0         \n",
      "=================================================================\n",
      "Total params: 28,447\n",
      "Trainable params: 28,447\n",
      "Non-trainable params: 0\n",
      "_________________________________________________________________\n"
     ]
    }
   ],
   "source": [
    "model.add(Flatten())\n",
    "\n",
    "\n",
    "# 1st Dense Layer\n",
    "model.add(Dense(77, input_shape=(50*50*4,)))\n",
    "model.add(Activation('softmax'))\n",
    "model.summary()"
   ]
  },
  {
   "cell_type": "code",
   "execution_count": 60,
   "id": "dcab6479",
   "metadata": {},
   "outputs": [
    {
     "ename": "SyntaxError",
     "evalue": "invalid syntax (<ipython-input-60-6c049b3a7f9f>, line 1)",
     "output_type": "error",
     "traceback": [
      "\u001b[1;36m  File \u001b[1;32m\"<ipython-input-60-6c049b3a7f9f>\"\u001b[1;36m, line \u001b[1;32m1\u001b[0m\n\u001b[1;33m    Total parameter : 379,958\u001b[0m\n\u001b[1;37m                  ^\u001b[0m\n\u001b[1;31mSyntaxError\u001b[0m\u001b[1;31m:\u001b[0m invalid syntax\n"
     ]
    }
   ],
   "source": [
    " Total parameter : 379,958"
   ]
  },
  {
   "cell_type": "code",
   "execution_count": null,
   "id": "4421b5e5",
   "metadata": {},
   "outputs": [],
   "source": []
  }
 ],
 "metadata": {
  "kernelspec": {
   "display_name": "Python 3",
   "language": "python",
   "name": "python3"
  },
  "language_info": {
   "codemirror_mode": {
    "name": "ipython",
    "version": 3
   },
   "file_extension": ".py",
   "mimetype": "text/x-python",
   "name": "python",
   "nbconvert_exporter": "python",
   "pygments_lexer": "ipython3",
   "version": "3.6.13"
  }
 },
 "nbformat": 4,
 "nbformat_minor": 5
}
