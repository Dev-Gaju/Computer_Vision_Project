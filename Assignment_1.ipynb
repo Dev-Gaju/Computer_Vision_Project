{
 "cells": [
  {
   "cell_type": "code",
   "execution_count": 31,
   "id": "35d2743e",
   "metadata": {},
   "outputs": [],
   "source": [
    "import tensorflow.keras\n",
    "from tensorflow.keras.models import Sequential\n",
    "from tensorflow.keras.layers import Dense, Activation, Dropout, \\\n",
    "    Flatten,Conv2D, MaxPooling2D,BatchNormalization,LayerNormalization\n",
    "import matplotlib.pyplot as plt"
   ]
  },
  {
   "cell_type": "code",
   "execution_count": 32,
   "id": "cd9e0018",
   "metadata": {},
   "outputs": [],
   "source": [
    "model = Sequential()"
   ]
  },
  {
   "cell_type": "code",
   "execution_count": 33,
   "id": "d9037cb9",
   "metadata": {},
   "outputs": [],
   "source": [
    "# 1st Convolutional Layer\n",
    "model.add(Conv2D(filters=13, input_shape=(50,50,4), kernel_size=(3,3)))\n",
    "model.add(Activation('relu'))"
   ]
  },
  {
   "cell_type": "code",
   "execution_count": 34,
   "id": "f5b2ad42",
   "metadata": {},
   "outputs": [],
   "source": [
    "# 2nd Convolutional Layer\n",
    "model.add(Conv2D(filters=40, kernel_size=(1,1), padding='valid'))\n",
    "model.add(Activation('relu'))\n",
    "# Pooling\n",
    "model.add(MaxPooling2D(pool_size=(2,2), strides=(3,3)))"
   ]
  },
  {
   "cell_type": "code",
   "execution_count": 38,
   "id": "afd19f79",
   "metadata": {},
   "outputs": [
    {
     "name": "stdout",
     "output_type": "stream",
     "text": [
      "Model: \"sequential_5\"\n",
      "_________________________________________________________________\n",
      "Layer (type)                 Output Shape              Param #   \n",
      "=================================================================\n",
      "conv2d_10 (Conv2D)           (None, 48, 48, 13)        481       \n",
      "_________________________________________________________________\n",
      "activation_16 (Activation)   (None, 48, 48, 13)        0         \n",
      "_________________________________________________________________\n",
      "conv2d_11 (Conv2D)           (None, 48, 48, 40)        560       \n",
      "_________________________________________________________________\n",
      "activation_17 (Activation)   (None, 48, 48, 40)        0         \n",
      "_________________________________________________________________\n",
      "max_pooling2d_5 (MaxPooling2 (None, 16, 16, 40)        0         \n",
      "_________________________________________________________________\n",
      "flatten_10 (Flatten)         (None, 10240)             0         \n",
      "_________________________________________________________________\n",
      "dense_12 (Dense)             (None, 37)                378917    \n",
      "_________________________________________________________________\n",
      "activation_18 (Activation)   (None, 37)                0         \n",
      "_________________________________________________________________\n",
      "flatten_11 (Flatten)         (None, 37)                0         \n",
      "_________________________________________________________________\n",
      "flatten_12 (Flatten)         (None, 37)                0         \n",
      "_________________________________________________________________\n",
      "flatten_13 (Flatten)         (None, 37)                0         \n",
      "_________________________________________________________________\n",
      "dense_15 (Dense)             (None, 37)                1406      \n",
      "_________________________________________________________________\n",
      "activation_19 (Activation)   (None, 37)                0         \n",
      "=================================================================\n",
      "Total params: 381,364\n",
      "Trainable params: 381,364\n",
      "Non-trainable params: 0\n",
      "_________________________________________________________________\n"
     ]
    }
   ],
   "source": [
    "model.add(Flatten())\n",
    "\n",
    "\n",
    "# 1st Dense Layer\n",
    "model.add(Dense(37, input_shape=(50*50*4,)))\n",
    "model.add(Activation('softmax'))\n",
    "model.summary()"
   ]
  },
  {
   "cell_type": "code",
   "execution_count": null,
   "id": "dcab6479",
   "metadata": {},
   "outputs": [],
   "source": [
    "379,958"
   ]
  }
 ],
 "metadata": {
  "kernelspec": {
   "display_name": "Python 3",
   "language": "python",
   "name": "python3"
  },
  "language_info": {
   "codemirror_mode": {
    "name": "ipython",
    "version": 3
   },
   "file_extension": ".py",
   "mimetype": "text/x-python",
   "name": "python",
   "nbconvert_exporter": "python",
   "pygments_lexer": "ipython3",
   "version": "3.6.13"
  }
 },
 "nbformat": 4,
 "nbformat_minor": 5
}
